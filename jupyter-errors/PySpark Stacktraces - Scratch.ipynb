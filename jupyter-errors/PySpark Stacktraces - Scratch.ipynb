{
 "cells": [
  {
   "cell_type": "code",
   "execution_count": null,
   "metadata": {},
   "outputs": [],
   "source": [
    "from pyspark.sql import SparkSession\n",
    "import pyspark.sql.functions as f\n",
    "\n",
    "if not 'spark' in locals():\n",
    "    spark = SparkSession.builder \\\n",
    "        .master(\"local[*]\") \\\n",
    "        .config(\"spark.driver.memory\",\"24G\") \\\n",
    "        .getOrCreate()\n",
    "\n",
    "spark"
   ]
  },
  {
   "cell_type": "code",
   "execution_count": null,
   "metadata": {},
   "outputs": [],
   "source": [
    "import pandas as pd\n",
    "\n",
    "replication_df = spark.createDataFrame(pd.DataFrame(list(range(1,1000)),columns=['replication_id'])).repartition(1000, 'replication_id')"
   ]
  },
  {
   "cell_type": "code",
   "execution_count": null,
   "metadata": {},
   "outputs": [],
   "source": [
    "from pyspark.sql.functions import *\n",
    "from pyspark.sql.types import *\n",
    "\n",
    "outSchema = StructType([StructField('replication_id', IntegerType(), True),\n",
    "            StructField('sil_score', DoubleType(), True),\n",
    "            StructField('num_clusters', IntegerType(), True),\n",
    "            StructField('min_samples', IntegerType(), True),\n",
    "            StructField('min_cluster_size', IntegerType(), True)])\n",
    "\n",
    "\n",
    "@pandas_udf(outSchema, PandasUDFType.GROUPED_MAP)\n",
    "def run_model(df_pandas):\n",
    "\n",
    "\n",
    "    # Return result as a pandas data frame\n",
    "    result = pd.DataFrame({'replication_id': replication_id, 'sil_score': 2,\n",
    "                           'num_clusters': 3, 'min_samples': 4,\n",
    "                           'min_cluster_size': 5}, index=[0])\n",
    "\n",
    "    return result\n",
    "\n",
    "\n",
    "\n",
    "results = replication_df.groupby(\"replication_id\").apply(run_model)"
   ]
  },
  {
   "cell_type": "code",
   "execution_count": null,
   "metadata": {},
   "outputs": [],
   "source": [
    "spark.conf.set(\"spark.sql.pyspark.jvmStacktrace.enabled\",True)\n",
    "spark.conf.set(\"spark.sql.execution.pyspark.udf.simplifiedTraceback.enabled\",False)\n",
    "\n",
    "results.count()"
   ]
  },
  {
   "cell_type": "code",
   "execution_count": null,
   "metadata": {},
   "outputs": [],
   "source": [
    "spark.conf.set(\"spark.sql.pyspark.jvmStacktrace.enabled\",False)\n",
    "spark.conf.set(\"spark.sql.execution.pyspark.udf.simplifiedTraceback.enabled\",False)\n",
    "\n",
    "results.count()"
   ]
  },
  {
   "cell_type": "code",
   "execution_count": null,
   "metadata": {},
   "outputs": [],
   "source": [
    "spark.conf.set(\"spark.sql.pyspark.jvmStacktrace.enabled\",False)\n",
    "spark.conf.set(\"spark.sql.execution.pyspark.udf.simplifiedTraceback.enabled\",True)\n",
    "\n",
    "results.count()"
   ]
  },
  {
   "cell_type": "code",
   "execution_count": null,
   "metadata": {},
   "outputs": [],
   "source": []
  }
 ],
 "metadata": {
  "kernelspec": {
   "display_name": "Python 3",
   "language": "python",
   "name": "python3"
  },
  "language_info": {
   "codemirror_mode": {
    "name": "ipython",
    "version": 3
   },
   "file_extension": ".py",
   "mimetype": "text/x-python",
   "name": "python",
   "nbconvert_exporter": "python",
   "pygments_lexer": "ipython3",
   "version": "3.7.7"
  }
 },
 "nbformat": 4,
 "nbformat_minor": 4
}
